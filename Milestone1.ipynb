{
 "cells": [
  {
   "cell_type": "code",
   "execution_count": 18,
   "id": "cb6cb0c3",
   "metadata": {},
   "outputs": [],
   "source": [
    "# imports:\n",
    "import torch\n",
    "import numpy as np\n",
    "from torchvision.utils import save_image\n",
    "import torch.optim as optim\n",
    "import torchvision.transforms as transforms\n",
    "import matplotlib.pyplot as plt\n",
    "import torch.nn.functional as F\n",
    "import models\n",
    "\n"
   ]
  },
  {
   "cell_type": "code",
   "execution_count": 26,
   "id": "0acbe5a9",
   "metadata": {},
   "outputs": [],
   "source": [
    "# Creating a noisy random tensor\n",
    "# -----------------------------------------------------------Milestone 1-------------------------------------------------------------\n",
    "def create_image():\n",
    "    input = torch.rand(3,224,224)\n",
    "    new_input = normalize_input(input)\n",
    "    new_input = new_input.requires_grad_(True)\n",
    "\n",
    "    #mean1,std1 = new_input.mean([1,2]), new_input.std([1,2])\n",
    "    #print(\"Mean of the image after norm:\", mean1)\n",
    "    #print(\"Std of the image after norm:\", std1)\n",
    "    \n",
    "    return new_input"
   ]
  },
  {
   "cell_type": "code",
   "execution_count": 27,
   "id": "081ca093",
   "metadata": {},
   "outputs": [],
   "source": [
    "#Pre-Processing for the input image\n",
    "def normalize_input(input):\n",
    "    mean,std = input.mean([1,2]), input.std([1,2])\n",
    "    print(\"Mean of the image:\", mean)\n",
    "    print(\"Std of the image:\", std)\n",
    "    norm = transforms.Normalize(mean, std)\n",
    "    new_input = norm(input)\n",
    "\n",
    "    return new_input"
   ]
  },
  {
   "cell_type": "code",
   "execution_count": 38,
   "id": "c4705291",
   "metadata": {},
   "outputs": [],
   "source": [
    "# Create a random input for the Generator\n",
    "# -----------------------------------------------------------Milestone 2-------------------------------------------------------------\n",
    "def create_input():\n",
    "    input_vector = torch.rand(1,8,1)\n",
    "    input_vector = input_vector.requires_grad_(True)\n",
    "\n",
    "    return input_vector"
   ]
  },
  {
   "cell_type": "code",
   "execution_count": 32,
   "id": "b2dcd6af",
   "metadata": {},
   "outputs": [
    {
     "ename": "ModuleNotFoundError",
     "evalue": "No module named 'models.gan_load'",
     "output_type": "error",
     "traceback": [
      "\u001b[0;31m---------------------------------------------------------------------------\u001b[0m",
      "\u001b[0;31mModuleNotFoundError\u001b[0m                       Traceback (most recent call last)",
      "\u001b[1;32m/Users/itayreznik/Dev/Research/Milestone1.ipynb Cell 5'\u001b[0m in \u001b[0;36m<cell line: 11>\u001b[0;34m()\u001b[0m\n\u001b[1;32m      <a href='vscode-notebook-cell:/Users/itayreznik/Dev/Research/Milestone1.ipynb#ch0000004?line=4'>5</a>\u001b[0m sys\u001b[39m.\u001b[39mpath\u001b[39m.\u001b[39mappend(\u001b[39m'\u001b[39m\u001b[39m/GANLatentDiscovery\u001b[39m\u001b[39m'\u001b[39m)\n\u001b[1;32m      <a href='vscode-notebook-cell:/Users/itayreznik/Dev/Research/Milestone1.ipynb#ch0000004?line=6'>7</a>\u001b[0m \u001b[39m#import GANLatentDiscovery.models.gan_load\u001b[39;00m\n\u001b[1;32m      <a href='vscode-notebook-cell:/Users/itayreznik/Dev/Research/Milestone1.ipynb#ch0000004?line=7'>8</a>\u001b[0m \u001b[39m#import GANLatentDiscovery.models.BigGAN.BigGAN\u001b[39;00m\n\u001b[1;32m      <a href='vscode-notebook-cell:/Users/itayreznik/Dev/Research/Milestone1.ipynb#ch0000004?line=8'>9</a>\u001b[0m \u001b[39m#import GANLatentDiscovery.models.BigGAN.utils\u001b[39;00m\n\u001b[0;32m---> <a href='vscode-notebook-cell:/Users/itayreznik/Dev/Research/Milestone1.ipynb#ch0000004?line=10'>11</a>\u001b[0m \u001b[39mimport\u001b[39;00m \u001b[39mGANLatentDiscovery\u001b[39;00m\u001b[39m.\u001b[39;00m\u001b[39mloading\u001b[39;00m\n\u001b[1;32m     <a href='vscode-notebook-cell:/Users/itayreznik/Dev/Research/Milestone1.ipynb#ch0000004?line=11'>12</a>\u001b[0m generator \u001b[39m=\u001b[39m GANLatentDiscovery\u001b[39m.\u001b[39mloading\u001b[39m.\u001b[39mload_from_dir(\u001b[39m\"\u001b[39m\u001b[39m/models/G_ema.pth\u001b[39m\u001b[39m\"\u001b[39m)\n",
      "File \u001b[0;32m~/Dev/Research/GANLatentDiscovery/loading.py:8\u001b[0m, in \u001b[0;36m<module>\u001b[0;34m\u001b[0m\n\u001b[1;32m      <a href='file:///Users/itayreznik/Dev/Research/GANLatentDiscovery/loading.py?line=5'>6</a>\u001b[0m \u001b[39mfrom\u001b[39;00m \u001b[39mlatent_deformator\u001b[39;00m \u001b[39mimport\u001b[39;00m LatentDeformator\n\u001b[1;32m      <a href='file:///Users/itayreznik/Dev/Research/GANLatentDiscovery/loading.py?line=6'>7</a>\u001b[0m \u001b[39mfrom\u001b[39;00m \u001b[39mlatent_shift_predictor\u001b[39;00m \u001b[39mimport\u001b[39;00m LatentShiftPredictor, LeNetShiftPredictor\n\u001b[0;32m----> <a href='file:///Users/itayreznik/Dev/Research/GANLatentDiscovery/loading.py?line=7'>8</a>\u001b[0m \u001b[39mfrom\u001b[39;00m \u001b[39mmodels\u001b[39;00m\u001b[39m.\u001b[39;00m\u001b[39mgan_load\u001b[39;00m \u001b[39mimport\u001b[39;00m make_big_gan, make_proggan, make_sngan\n\u001b[1;32m     <a href='file:///Users/itayreznik/Dev/Research/GANLatentDiscovery/loading.py?line=10'>11</a>\u001b[0m \u001b[39mdef\u001b[39;00m \u001b[39mload_generator\u001b[39m(args, G_weights):\n\u001b[1;32m     <a href='file:///Users/itayreznik/Dev/Research/GANLatentDiscovery/loading.py?line=11'>12</a>\u001b[0m     gan_type \u001b[39m=\u001b[39m args[\u001b[39m'\u001b[39m\u001b[39mgan_type\u001b[39m\u001b[39m'\u001b[39m]\n",
      "\u001b[0;31mModuleNotFoundError\u001b[0m: No module named 'models.gan_load'"
     ]
    }
   ],
   "source": [
    "# Loading the Generator\n",
    "# -----------------------------------------------------------Milestone 2-------------------------------------------------------------\n",
    "import sys\n",
    "sys.path.append('/GANLatentDiscovery')\n",
    "\n",
    "#import GANLatentDiscovery.models.gan_load\n",
    "#import GANLatentDiscovery.models.BigGAN.BigGAN\n",
    "#import GANLatentDiscovery.models.BigGAN.utils\n",
    "\n",
    "import GANLatentDiscovery.loading\n",
    "generator = GANLatentDiscovery.loading.load_from_dir(\"/models/G_ema.pth\")\n",
    "#print(generator)"
   ]
  },
  {
   "cell_type": "code",
   "execution_count": 40,
   "id": "ce5d456c",
   "metadata": {},
   "outputs": [],
   "source": [
    "# Importing the WideResNet-50 robust ImageNet model:             \n",
    "from robustbench.utils import load_model\n",
    "model = load_model(model_name='Salman2020Do_R18', dataset='imagenet', threat_model='Linf')\n",
    "#print(model.fc[1])"
   ]
  },
  {
   "cell_type": "code",
   "execution_count": 41,
   "id": "a69a75cf",
   "metadata": {},
   "outputs": [],
   "source": [
    "# Defining an Optimizer\n",
    "def define_optimizer(input):\n",
    "    optimizer = optim.Adam([input], lr = 0.08) \n",
    "    return optimizer                                                             # Read about Adam/SGD optimizers"
   ]
  },
  {
   "cell_type": "code",
   "execution_count": 42,
   "id": "772b888b",
   "metadata": {},
   "outputs": [],
   "source": [
    "# Plot the input image:\n",
    "def visualize(input):  \n",
    "    npimg = input.detach().numpy()\n",
    "    plt.imshow(np.transpose(npimg, (1,2,0)))\n",
    "    plt.show()"
   ]
  },
  {
   "cell_type": "code",
   "execution_count": 7,
   "id": "50627e7e",
   "metadata": {},
   "outputs": [],
   "source": [
    "# Plot the input image after normalization to [0,1]:\n",
    "def visualize_with_norm(input):  \n",
    "\n",
    "    npimg = input.detach().numpy()\n",
    "    plt.imshow(np.transpose(npimg, (1,2,0)))\n",
    "    plt.show()\n",
    "\n",
    "    mean,std = input.mean([1,2]), input.std([1,2])\n",
    "    print(\"Mean of the image:\", mean)\n",
    "    print(\"Std of the image:\", std)\n",
    "#....................................Normalize the input to [0,1] here...................................\n",
    "    new_input = transforms.Normalize(mean=[0.485, 0.456, 0.406],\n",
    "                        std=[0.229, 0.224, 0.225])(input)\n",
    "\n",
    "    mean1,std1 = new_input.mean([1,2]), new_input.std([1,2])\n",
    "    print(\"Mean of the image after norm:\", mean1)\n",
    "    print(\"Std of the image after norm:\", std1)\n",
    "     \n",
    "    npimg = new_input.detach().numpy()\n",
    "    plt.imshow(np.transpose(npimg, (1,2,0)))\n",
    "    plt.show()"
   ]
  },
  {
   "cell_type": "code",
   "execution_count": 12,
   "id": "76bd1b65",
   "metadata": {},
   "outputs": [],
   "source": [
    "# \"Training\": (Not really. We optimize the input image, not the model)\n",
    "# -----------------------------------------------------------Milestone 1-------------------------------------------------------------\n",
    "def training(input, optimizer, class_number):\n",
    "    \n",
    "    for epoch in range(101): \n",
    "        # zero the parameter gradients\n",
    "        optimizer.zero_grad()\n",
    "\n",
    "        # forward + backward + optimize\n",
    "        output = F.softmax(model(input.unsqueeze(0)),dim = 1)\n",
    "        loss = 1 - output[0][class_number]     # output[0][1] = The probability that the input is an image of a goldfish. \n",
    "        loss.backward()\n",
    "        optimizer.step()\n",
    "\n",
    "        #print(loss.item())\n",
    "        #print(output)\n",
    "        \n",
    "        if (epoch%10 == 0):\n",
    "            # Show the tensor as an image and see the progress:\n",
    "            print(\"\\nEpoch #\", epoch,\":\\n\")\n",
    "            visualize(input)\n",
    "            print(\"Loss: \",loss.item())\n",
    "\n",
    "    print('Finished Training\\n\\n\\n')\n",
    "    visualize_with_norm(input)\n"
   ]
  },
  {
   "cell_type": "code",
   "execution_count": 43,
   "id": "6d976c2d",
   "metadata": {},
   "outputs": [],
   "source": [
    "# \"Training\": (Not really. We optimize the input of the Image Generator, not the model itself) \n",
    "# -----------------------------------------------------------Milestone 2-------------------------------------------------------------\n",
    "def training2(input, optimizer, class_number):\n",
    "    \n",
    "    for epoch in range(101): \n",
    "        # zero the parameter gradients\n",
    "        optimizer.zero_grad()\n",
    "\n",
    "        generated_image = generator(input)\n",
    "\n",
    "        # forward + backward + optimize\n",
    "        output = F.softmax(model(generated_image.unsqueeze(0)),dim = 1)\n",
    "        loss = 1 - output[0][class_number]     # output[0][1] = The probability that the input is an image of a goldfish. \n",
    "        loss.backward()\n",
    "        optimizer.step()\n",
    "\n",
    "        \n",
    "        if (epoch%10 == 0):\n",
    "            # Show the tensor as an image and see the progress:\n",
    "            print(\"\\nEpoch #\", epoch,\":\\n\")\n",
    "            print(\"\\nInput: \", input)\n",
    "            visualize(generated_image)\n",
    "            print(\"Loss: \",loss.item())\n",
    "\n",
    "    print('Finished Training\\n\\n\\n')\n",
    "    # visualize_with_norm(generated_image)\n",
    "    return generated_image\n"
   ]
  },
  {
   "cell_type": "code",
   "execution_count": null,
   "id": "1f7699cb",
   "metadata": {},
   "outputs": [],
   "source": [
    "# We want an image of a goldfish:\n",
    "# -----------------------------------------------------------Milestone 1-------------------------------------------------------------\n",
    "input = create_image()\n",
    "training(input, define_optimizer(input), 1)\n",
    "save_image(input, \"goldfish.png\")"
   ]
  },
  {
   "cell_type": "code",
   "execution_count": null,
   "id": "ebc32159",
   "metadata": {},
   "outputs": [],
   "source": [
    "# We want an image of a goldfish: \n",
    "# -----------------------------------------------------------Milestone 2-------------------------------------------------------------\n",
    "input_vector = create_input()\n",
    "generated_image = training2(input_vector, define_optimizer(input_vector), 1)\n",
    "save_image(generated_image, \"goldfish.png\")"
   ]
  },
  {
   "cell_type": "code",
   "execution_count": null,
   "id": "41387c81",
   "metadata": {},
   "outputs": [],
   "source": [
    "# We want an image of a banana :\n",
    "input = create_image()\n",
    "training(input, define_optimizer(input), 954)\n",
    "save_image(input, \"banana.png\")"
   ]
  },
  {
   "cell_type": "code",
   "execution_count": null,
   "id": "4e59f8a4",
   "metadata": {},
   "outputs": [],
   "source": [
    "# We want an image of a golden retriever :\n",
    "input = create_image()\n",
    "training(input, define_optimizer(input), 207)\n",
    "save_image(input, \"golden_retriever.png\")\n"
   ]
  },
  {
   "cell_type": "code",
   "execution_count": null,
   "id": "e6425d57",
   "metadata": {},
   "outputs": [],
   "source": [
    "# We want an image of a tabby cat :\n",
    "input = create_image()\n",
    "training(input, define_optimizer(input), 281)\n",
    "save_image(input, \"tabby_cat.png\")\n"
   ]
  },
  {
   "cell_type": "code",
   "execution_count": null,
   "id": "f5ee8c6a",
   "metadata": {},
   "outputs": [],
   "source": []
  }
 ],
 "metadata": {
  "interpreter": {
   "hash": "47e6f307341afe6d861f93520554636c3f04a0312a868de8ed1797636ecfcfd7"
  },
  "kernelspec": {
   "display_name": "Python 3 (ipykernel)",
   "language": "python",
   "name": "python3"
  },
  "language_info": {
   "codemirror_mode": {
    "name": "ipython",
    "version": 3
   },
   "file_extension": ".py",
   "mimetype": "text/x-python",
   "name": "python",
   "nbconvert_exporter": "python",
   "pygments_lexer": "ipython3",
   "version": "3.9.12"
  }
 },
 "nbformat": 4,
 "nbformat_minor": 5
}
